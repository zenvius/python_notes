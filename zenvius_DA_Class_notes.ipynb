{
  "nbformat": 4,
  "nbformat_minor": 0,
  "metadata": {
    "colab": {
      "provenance": [],
      "authorship_tag": "ABX9TyPc1XtTIh08ZBsiTYLWXLuU",
      "include_colab_link": true
    },
    "kernelspec": {
      "name": "python3",
      "display_name": "Python 3"
    },
    "language_info": {
      "name": "python"
    }
  },
  "cells": [
    {
      "cell_type": "markdown",
      "metadata": {
        "id": "view-in-github",
        "colab_type": "text"
      },
      "source": [
        "<a href=\"https://colab.research.google.com/github/zenvius/python_notes/blob/main/zenvius_DA_Class_notes.ipynb\" target=\"_parent\"><img src=\"https://colab.research.google.com/assets/colab-badge.svg\" alt=\"Open In Colab\"/></a>"
      ]
    },
    {
      "cell_type": "markdown",
      "source": [
        "#Python Module 1"
      ],
      "metadata": {
        "id": "-208Qjso7Nb_"
      }
    },
    {
      "cell_type": "code",
      "execution_count": null,
      "metadata": {
        "id": "b7dinY956Uzl"
      },
      "outputs": [],
      "source": [
        "#what is python?\n",
        "#Python is a most emerging, genral purpose, High-level, Dynamically typed , OOP’s, and interpreted programming language\n",
        "\"\"\"a. Most emerging , General purpose  programming language\n",
        "b. High level programming language\n",
        "c. Dynamically typed programming language\n",
        "d. Object oriented programming language---> OOP’s\n",
        "e. interpreted programming language\"\"\""
      ]
    },
    {
      "cell_type": "markdown",
      "source": [
        "**print \"Hello world\"**"
      ],
      "metadata": {
        "id": "ciYL-RGY775i"
      }
    },
    {
      "cell_type": "code",
      "source": [
        "#print \" hello world\" by using the python\n",
        "# By USING \"print()\"--> is  an inbuilt function used to display your output\n",
        "print(\"Hello world!\")\n",
        "#print \"Hello universe!\"\n",
        "#type()--> is an inbuilt function used to print your data type\n",
        "print(type('hello world!'))"
      ],
      "metadata": {
        "colab": {
          "base_uri": "https://localhost:8080/"
        },
        "id": "RI34UAMa8Dgd",
        "outputId": "ade74b9e-6643-4c79-86a8-b46110e99f43"
      },
      "execution_count": null,
      "outputs": [
        {
          "output_type": "stream",
          "name": "stdout",
          "text": [
            "Hello world!\n",
            "<class 'str'>\n"
          ]
        }
      ]
    },
    {
      "cell_type": "code",
      "source": [
        "#Numerical Data types\n",
        "#Arthmetic operators\n",
        "#round()\n",
        "#varaibles"
      ],
      "metadata": {
        "id": "MQN2rPEh9N8c"
      },
      "execution_count": null,
      "outputs": []
    },
    {
      "cell_type": "markdown",
      "source": [
        "**07-01-2025**"
      ],
      "metadata": {
        "id": "KA0_22Q59KiL"
      }
    },
    {
      "cell_type": "code",
      "source": [
        "a = 10\n",
        "b = 5\n",
        "a = 30\n",
        "b = 50\n",
        "print(a+b)\n",
        "\"\"\"Note:- Interpreted programming language means python can execute the code\n",
        "line by line and latest value can be taken in to consideration\"\"\""
      ],
      "metadata": {
        "colab": {
          "base_uri": "https://localhost:8080/"
        },
        "id": "e0f40D8v11lj",
        "outputId": "09cb47d4-ea5d-4a2f-90fc-811ade19145d"
      },
      "execution_count": null,
      "outputs": [
        {
          "output_type": "stream",
          "name": "stdout",
          "text": [
            "80\n"
          ]
        }
      ]
    },
    {
      "cell_type": "markdown",
      "source": [
        "**Numerical Data Types**"
      ],
      "metadata": {
        "id": "T-Zy7mkf15v9"
      }
    },
    {
      "cell_type": "code",
      "source": [
        "#How many types of Numerical Data Types do we have in Python?\n",
        "#there are 3 types\n",
        "#1. Integer:- its a whole number either +ve or -ve without decimal point is known as Integer--> int\n",
        "print(10)\n",
        "print(-5)\n",
        "#find the data type for above integers\n",
        "# use  \"type()\" to find the dtypes\n",
        "print(type(10))\n",
        "print(type(-5))"
      ],
      "metadata": {
        "id": "b6OzK1BW2q_V"
      },
      "execution_count": null,
      "outputs": []
    },
    {
      "cell_type": "code",
      "source": [
        "#2.float:- its a whole number either +ve or -ve with decimal point is known as float---> float\n",
        "print(10.5)\n",
        "print(5.25)\n",
        "#find the dtype\n",
        "print(type(5.25))"
      ],
      "metadata": {
        "colab": {
          "base_uri": "https://localhost:8080/"
        },
        "id": "gRTWdT5z3jtx",
        "outputId": "b432a795-82ac-4e1c-c04c-515a9ab18efd"
      },
      "execution_count": null,
      "outputs": [
        {
          "output_type": "stream",
          "name": "stdout",
          "text": [
            "10.5\n",
            "5.25\n",
            "<class 'float'>\n"
          ]
        }
      ]
    },
    {
      "cell_type": "code",
      "source": [
        "#what is the data type of 0?\n",
        "print(type(-0.0))\n",
        "print(type(2.))"
      ],
      "metadata": {
        "colab": {
          "base_uri": "https://localhost:8080/"
        },
        "id": "A5HHdvbJ34hR",
        "outputId": "f2a04182-95bc-4124-96fe-61c3142a2f94"
      },
      "execution_count": null,
      "outputs": [
        {
          "output_type": "stream",
          "name": "stdout",
          "text": [
            "<class 'float'>\n",
            "<class 'float'>\n"
          ]
        }
      ]
    },
    {
      "cell_type": "code",
      "source": [
        "#3.Complex Number:- A real number with its imaginary part is known as complex number--> complex\n",
        "#Note:- The imaginary part must have letter 'j'-->which is known as 'iota'\n",
        "#SO the value of 'Iota' is  'root -1'\n",
        "print(2+5j)\n",
        "print(3+6j)\n",
        "#find the data type\n",
        "print(type(2+5j))\n"
      ],
      "metadata": {
        "colab": {
          "base_uri": "https://localhost:8080/"
        },
        "id": "tKu-vena4S8d",
        "outputId": "1d291c61-f50a-4030-ac88-b4589f95ac89"
      },
      "execution_count": null,
      "outputs": [
        {
          "output_type": "stream",
          "name": "stdout",
          "text": [
            "(2+5j)\n",
            "(3+6j)\n",
            "<class 'complex'>\n"
          ]
        }
      ]
    },
    {
      "cell_type": "markdown",
      "source": [
        "#Arthametic operators"
      ],
      "metadata": {
        "id": "KWx1NzqH8KbB"
      }
    },
    {
      "cell_type": "code",
      "source": [
        "#How many types of arthametic operators do we have in python?\n",
        "#there are 7 types\n",
        "#1. Addition--> +\n",
        "print(10 + 5)\n",
        "#2. substraction---> -\n",
        "print(10 - 5)\n",
        "#3. Multiplication ---> *\n",
        "print(10 * 5)\n",
        "#4. division ----> /--> finding the co-efficient\n",
        "print(10 / 5)\n",
        "print(type(10/5))\n",
        "#why the default data type for division is float?\n",
        "\"\"\"in most of the divivison operations we get float numbers in co-efficient\n",
        "so, to get proper co-effiecient the founder of the python make the data type as folat by default\"\"\""
      ],
      "metadata": {
        "id": "jgbYEl6-8QO4"
      },
      "execution_count": null,
      "outputs": []
    },
    {
      "cell_type": "code",
      "source": [
        "#5. Modulus--> is defined as remainder of the division---> %\n",
        "#modulus ia mostly used to find the odd and even numbers and prime numbers...etc\n",
        "print(10 % 2)\n",
        "print(5 % 2)"
      ],
      "metadata": {
        "id": "a5YZoYTI-ZWh"
      },
      "execution_count": null,
      "outputs": []
    },
    {
      "cell_type": "code",
      "source": [
        "#6.exponential--> ** --> to the power off\n",
        "print(2**3)\n",
        "print(type(2**3))\n",
        "#square root\n",
        "print(25**0.5)\n",
        "print(2**0.5)"
      ],
      "metadata": {
        "id": "kiwY5BdH_Mtl"
      },
      "execution_count": null,
      "outputs": []
    },
    {
      "cell_type": "code",
      "source": [
        "#7.floor division---> //--> it ignores the values after the decimal point\n",
        "print(10/3)\n",
        "print(10//3)  #so it ignores the values after decimal point in the co-efficient\n",
        "print(53.67 // 2)\n",
        "print(53.67 / 2)"
      ],
      "metadata": {
        "colab": {
          "base_uri": "https://localhost:8080/"
        },
        "id": "J467U8EE_3cA",
        "outputId": "293fca21-ba11-45b9-e2fb-a0b331f3a9ef"
      },
      "execution_count": null,
      "outputs": [
        {
          "output_type": "stream",
          "name": "stdout",
          "text": [
            "3.3333333333333335\n",
            "3\n",
            "26.0\n",
            "26.835\n"
          ]
        }
      ]
    },
    {
      "cell_type": "markdown",
      "source": [
        "#round()"
      ],
      "metadata": {
        "id": "gzKGQ_mcCTZ0"
      }
    },
    {
      "cell_type": "code",
      "source": [
        "#what is 'floor' value and  'ceil' value?\n",
        "#floor value is the value before the decimal point\n",
        "#the next upcoming value for a decimal number is known as ceil value\n",
        "#Note:- Round function is used to print the next upcoming value, only for decimal numbers\n",
        "#where we need to use the round()?\n",
        "#we inside the print()\n",
        "print(round(6))\n",
        "print(round(9))"
      ],
      "metadata": {
        "colab": {
          "base_uri": "https://localhost:8080/"
        },
        "id": "-MecVurSCZ4H",
        "outputId": "cf43ecd9-4d3c-48dc-b225-e034eb216dd1"
      },
      "execution_count": null,
      "outputs": [
        {
          "output_type": "stream",
          "name": "stdout",
          "text": [
            "6\n",
            "9\n"
          ]
        }
      ]
    },
    {
      "cell_type": "code",
      "source": [
        "#The round() is applicable for decimal numbers to print specific n-digits.\n",
        "#Note:- if the decimal number is greater than or equal to 0.5 then it prints the upcoimng value\n",
        "print(round(5.5))\n",
        "print(round(5.45678))"
      ],
      "metadata": {
        "colab": {
          "base_uri": "https://localhost:8080/"
        },
        "id": "BtJv4lZADvnK",
        "outputId": "03b7e0ec-1a8f-4116-d025-1a3fa0c339ba"
      },
      "execution_count": null,
      "outputs": [
        {
          "output_type": "stream",
          "name": "stdout",
          "text": [
            "6\n",
            "5\n"
          ]
        }
      ]
    },
    {
      "cell_type": "code",
      "source": [
        "#print first 2 ndigits from the given numbers\n",
        "#suntax:- round(number,count_ndigits)\n",
        "print(round(12.526473,3))\n",
        "print(round(1234.98352,3))"
      ],
      "metadata": {
        "colab": {
          "base_uri": "https://localhost:8080/"
        },
        "id": "1CzMN9naEoan",
        "outputId": "da6663c8-29a2-4042-b413-4ac7ac998d7a"
      },
      "execution_count": null,
      "outputs": [
        {
          "output_type": "stream",
          "name": "stdout",
          "text": [
            "12.526\n",
            "1234.984\n"
          ]
        }
      ]
    },
    {
      "cell_type": "code",
      "source": [
        "#when we give -ve ndigit the values after the decimal point values becomes '0' and -1 meand in reverse direction it is count the floor value\n",
        "print(round(1234.98352,-4))\n",
        "print(round(12454.9876,-2))\n",
        "print(round(15367.765,-2))"
      ],
      "metadata": {
        "colab": {
          "base_uri": "https://localhost:8080/"
        },
        "id": "1fYohy0GFaZZ",
        "outputId": "d242e5b3-8929-406c-cfc2-f1c29bcf8df5"
      },
      "execution_count": null,
      "outputs": [
        {
          "output_type": "stream",
          "name": "stdout",
          "text": [
            "0.0\n",
            "12500.0\n",
            "15400.0\n"
          ]
        }
      ]
    },
    {
      "cell_type": "code",
      "source": [
        "#WHAT IS A PYTHON?\n",
        "#print()\n",
        "#type()\n",
        "#numerical data types--> int,float,complex number\n",
        "#arthametic operators--> 7 types\n",
        "#round()--> applicable for decimal numbers\n",
        "#floor value ---> the value before the decimal point\n",
        "#ceil value---> the next upcoimng value when you use the round()\n",
        "5.246\n",
        "print(round(5.246,2))\n",
        "\n"
      ],
      "metadata": {
        "id": "XNr4ZjG0Hfs6",
        "colab": {
          "base_uri": "https://localhost:8080/"
        },
        "outputId": "5466d1b9-5389-470d-994e-b95c210938e0"
      },
      "execution_count": null,
      "outputs": [
        {
          "output_type": "stream",
          "name": "stdout",
          "text": [
            "5.25\n"
          ]
        }
      ]
    },
    {
      "cell_type": "markdown",
      "source": [
        "**08-01-2025**"
      ],
      "metadata": {
        "id": "AgkJ7X9qAoJe"
      }
    },
    {
      "cell_type": "markdown",
      "source": [
        "#Varaibles"
      ],
      "metadata": {
        "id": "VY05hzhuArza"
      }
    },
    {
      "cell_type": "code",
      "source": [
        "print(10 + 5)\n",
        "print(10 - 5)\n",
        "print(10 * 5)"
      ],
      "metadata": {
        "colab": {
          "base_uri": "https://localhost:8080/"
        },
        "id": "72kqxFWkCINw",
        "outputId": "7daa2b64-65ff-4e8b-9825-1608a08fa272"
      },
      "execution_count": null,
      "outputs": [
        {
          "output_type": "stream",
          "name": "stdout",
          "text": [
            "15\n",
            "5\n",
            "50\n"
          ]
        }
      ]
    },
    {
      "cell_type": "code",
      "source": [
        "#what is varaibles?\n",
        "#Varibles are nothing but containers where we can store our valuable information or data, and reuse it\n",
        "#How can we create an varaible?\n",
        "\"\"\"let say father age is 40\n",
        "son age is half of the father age\n",
        "then find the son age\"\"\"\n",
        "\"\"\" let say father age is X\n",
        "son age is half of the father age\n",
        "then find the son age X/2 \"\"\""
      ],
      "metadata": {
        "id": "oExoSGH1D5UA"
      },
      "execution_count": null,
      "outputs": []
    },
    {
      "cell_type": "code",
      "source": [
        "x = 40\n",
        "son_age = x//2\n",
        "#How can we access a varaible?\n",
        "print(son_age)"
      ],
      "metadata": {
        "colab": {
          "base_uri": "https://localhost:8080/"
        },
        "id": "4ygZSszUEelJ",
        "outputId": "05db1aba-769c-4bcc-d1ce-0a43f8432552"
      },
      "execution_count": null,
      "outputs": [
        {
          "output_type": "stream",
          "name": "stdout",
          "text": [
            "20\n"
          ]
        }
      ]
    },
    {
      "cell_type": "markdown",
      "source": [
        "**Types of errors in programming language**"
      ],
      "metadata": {
        "id": "OJ7zT_JyE6bJ"
      }
    },
    {
      "cell_type": "code",
      "source": [
        "#How many types of errors do we have in python?\n",
        "#there are only 2 types of errors\n",
        "#1.syntax error\n",
        "#2.Logical error\n",
        "#what is a syntax error?\n",
        "#breaking the rules of programming language can rise an syntax error.\n",
        "\"\"\"let say father age is 40\n",
        "son age is half of the father age\n",
        "then find the son age'''"
      ],
      "metadata": {
        "id": "MYDjgsgZFT5w"
      },
      "execution_count": null,
      "outputs": []
    },
    {
      "cell_type": "code",
      "source": [
        "#write a small code to rise an syntax error?\n",
        "print(5.3"
      ],
      "metadata": {
        "id": "IBDiVtjIGkpP"
      },
      "execution_count": null,
      "outputs": []
    },
    {
      "cell_type": "code",
      "source": [
        "#what is the logical error?\n",
        "#2.Logical error:- except syntax error all the errors comes under the logical error\n",
        "#ex:- 'indentation error', attribute error, name error...etc\n"
      ],
      "metadata": {
        "id": "C5RmdahyG7DX"
      },
      "execution_count": null,
      "outputs": []
    },
    {
      "cell_type": "markdown",
      "source": [
        "**rules to create the varaibles**"
      ],
      "metadata": {
        "id": "hia2ZZVeHcqz"
      }
    },
    {
      "cell_type": "code",
      "source": [
        "#1.start create the varaible by using the alphabets\n",
        "a = 40\n",
        "print(a)\n",
        "num = 50\n",
        "print(num)"
      ],
      "metadata": {
        "colab": {
          "base_uri": "https://localhost:8080/"
        },
        "id": "fWXZqEufJdks",
        "outputId": "25232cc5-02d5-48b4-85e6-524bc33f9e01"
      },
      "execution_count": null,
      "outputs": [
        {
          "output_type": "stream",
          "name": "stdout",
          "text": [
            "40\n",
            "50\n"
          ]
        }
      ]
    },
    {
      "cell_type": "code",
      "source": [
        "#2.Don't start creating the varaible by using the Numbers\n",
        "2 = \"hello world\"\n",
        "print(2)"
      ],
      "metadata": {
        "colab": {
          "base_uri": "https://localhost:8080/",
          "height": 110
        },
        "id": "K9COJQz8JpOn",
        "outputId": "6b25bda4-992a-4a4c-d62c-c93a297a3a5c"
      },
      "execution_count": null,
      "outputs": [
        {
          "output_type": "error",
          "ename": "SyntaxError",
          "evalue": "cannot assign to literal here. Maybe you meant '==' instead of '='? (<ipython-input-11-e76028cf1434>, line 2)",
          "traceback": [
            "\u001b[0;36m  File \u001b[0;32m\"<ipython-input-11-e76028cf1434>\"\u001b[0;36m, line \u001b[0;32m2\u001b[0m\n\u001b[0;31m    2 = \"hello world\"\u001b[0m\n\u001b[0m    ^\u001b[0m\n\u001b[0;31mSyntaxError\u001b[0m\u001b[0;31m:\u001b[0m cannot assign to literal here. Maybe you meant '==' instead of '='?\n"
          ]
        }
      ]
    },
    {
      "cell_type": "code",
      "source": [
        "#3.if you follow rlue 1 & 2 start creating varaibles with alphabets inbetween use the the numbers\n",
        "sahkjahfk32jdhsj = \"hello world\"\n",
        "print(sahkjahfk32jdhsj)"
      ],
      "metadata": {
        "colab": {
          "base_uri": "https://localhost:8080/"
        },
        "id": "aL122ZaNJ4qC",
        "outputId": "d53a813b-2d66-4209-fba1-ef2f29d51076"
      },
      "execution_count": null,
      "outputs": [
        {
          "output_type": "stream",
          "name": "stdout",
          "text": [
            "hello world\n"
          ]
        }
      ]
    },
    {
      "cell_type": "code",
      "source": [
        "#4.Don't use speacial characters in the varaibles---> !,@,#,$,%,^,&,*,-\n",
        "son@age = 20\n",
        "print(son@age)"
      ],
      "metadata": {
        "colab": {
          "base_uri": "https://localhost:8080/",
          "height": 110
        },
        "id": "O4SvTlFyKLgP",
        "outputId": "4b35870f-e13c-4960-cd1a-cd87265572d9"
      },
      "execution_count": null,
      "outputs": [
        {
          "output_type": "error",
          "ename": "SyntaxError",
          "evalue": "cannot assign to expression here. Maybe you meant '==' instead of '='? (<ipython-input-13-4001ef31b3bb>, line 2)",
          "traceback": [
            "\u001b[0;36m  File \u001b[0;32m\"<ipython-input-13-4001ef31b3bb>\"\u001b[0;36m, line \u001b[0;32m2\u001b[0m\n\u001b[0;31m    son@age = 20\u001b[0m\n\u001b[0m    ^\u001b[0m\n\u001b[0;31mSyntaxError\u001b[0m\u001b[0;31m:\u001b[0m cannot assign to expression here. Maybe you meant '==' instead of '='?\n"
          ]
        }
      ]
    },
    {
      "cell_type": "code",
      "source": [
        "#5.don't use the 'white space' in between the varaibles\n",
        "son age = 20\n",
        "print(son age)"
      ],
      "metadata": {
        "colab": {
          "base_uri": "https://localhost:8080/",
          "height": 110
        },
        "id": "lG0WyEa5KlWk",
        "outputId": "4e19b94f-6453-44f6-c5f3-f148be4ed2b1"
      },
      "execution_count": null,
      "outputs": [
        {
          "output_type": "error",
          "ename": "SyntaxError",
          "evalue": "invalid syntax (<ipython-input-14-ce4e296b050f>, line 2)",
          "traceback": [
            "\u001b[0;36m  File \u001b[0;32m\"<ipython-input-14-ce4e296b050f>\"\u001b[0;36m, line \u001b[0;32m2\u001b[0m\n\u001b[0;31m    son age = 20\u001b[0m\n\u001b[0m        ^\u001b[0m\n\u001b[0;31mSyntaxError\u001b[0m\u001b[0;31m:\u001b[0m invalid syntax\n"
          ]
        }
      ]
    },
    {
      "cell_type": "code",
      "source": [
        "#6. use the '_' as a varaible instead of spaces\n",
        "_ = \"hello\"\n",
        "print(_)\n",
        "son_age = 20\n",
        "print(son_age)"
      ],
      "metadata": {
        "colab": {
          "base_uri": "https://localhost:8080/"
        },
        "id": "qT2DUFJKKy9Z",
        "outputId": "6a3e9316-0604-45eb-8ff8-6823c68c30fa"
      },
      "execution_count": null,
      "outputs": [
        {
          "output_type": "stream",
          "name": "stdout",
          "text": [
            "hello\n",
            "20\n"
          ]
        }
      ]
    },
    {
      "cell_type": "code",
      "source": [
        "#Don't use the upper case letters as avaraible name\n",
        "SON_AGE = 20\n",
        "son_age = 20"
      ],
      "metadata": {
        "id": "AoTiRYSBLDvP"
      },
      "execution_count": null,
      "outputs": []
    },
    {
      "cell_type": "markdown",
      "source": [
        "**Python is a Dynamically typed programming alanguage**"
      ],
      "metadata": {
        "id": "sno_BgglLSGd"
      }
    },
    {
      "cell_type": "code",
      "source": [
        "#we no need to define the data types for the varaibles\n",
        "a = 10\n",
        "print(type(a))\n",
        "b = 10.5\n",
        "print(type(10.5))\n",
        "c = \"hello world\"\n",
        "print(type(c))"
      ],
      "metadata": {
        "colab": {
          "base_uri": "https://localhost:8080/"
        },
        "id": "6FEumazXLb94",
        "outputId": "c7237f3a-c4c5-49dc-e6e3-5b2857de3c16"
      },
      "execution_count": null,
      "outputs": [
        {
          "output_type": "stream",
          "name": "stdout",
          "text": [
            "<class 'int'>\n",
            "<class 'float'>\n",
            "<class 'str'>\n"
          ]
        }
      ]
    },
    {
      "cell_type": "markdown",
      "source": [
        "**Python is a case sensitive programming language**"
      ],
      "metadata": {
        "id": "pFSvbVeWL5o2"
      }
    },
    {
      "cell_type": "code",
      "source": [
        "x = 10\n",
        "print(X)"
      ],
      "metadata": {
        "colab": {
          "base_uri": "https://localhost:8080/",
          "height": 165
        },
        "id": "9sFLopddL-4Y",
        "outputId": "5b64e046-f577-4a0c-bfa2-5cc0a8b287b4"
      },
      "execution_count": null,
      "outputs": [
        {
          "output_type": "error",
          "ename": "NameError",
          "evalue": "name 'X' is not defined",
          "traceback": [
            "\u001b[0;31m---------------------------------------------------------------------------\u001b[0m",
            "\u001b[0;31mNameError\u001b[0m                                 Traceback (most recent call last)",
            "\u001b[0;32m<ipython-input-20-0f5ea63aba13>\u001b[0m in \u001b[0;36m<cell line: 2>\u001b[0;34m()\u001b[0m\n\u001b[1;32m      1\u001b[0m \u001b[0mx\u001b[0m \u001b[0;34m=\u001b[0m \u001b[0;36m10\u001b[0m\u001b[0;34m\u001b[0m\u001b[0;34m\u001b[0m\u001b[0m\n\u001b[0;32m----> 2\u001b[0;31m \u001b[0mprint\u001b[0m\u001b[0;34m(\u001b[0m\u001b[0mX\u001b[0m\u001b[0;34m)\u001b[0m\u001b[0;34m\u001b[0m\u001b[0;34m\u001b[0m\u001b[0m\n\u001b[0m",
            "\u001b[0;31mNameError\u001b[0m: name 'X' is not defined"
          ]
        }
      ]
    },
    {
      "cell_type": "markdown",
      "source": [
        "**Python is an interpreted programming language**"
      ],
      "metadata": {
        "id": "j_BnclzWMKLF"
      }
    },
    {
      "cell_type": "code",
      "source": [
        "#it executes the code line by line or step by step\n",
        "a = 10\n",
        "b = 20\n",
        "a = 5\n",
        "b = 35\n",
        "print(a+b)"
      ],
      "metadata": {
        "colab": {
          "base_uri": "https://localhost:8080/"
        },
        "id": "LvFO8bV2MOBt",
        "outputId": "b3df5b02-2fe7-41a5-80af-3fef10f1b670"
      },
      "execution_count": null,
      "outputs": [
        {
          "output_type": "stream",
          "name": "stdout",
          "text": [
            "40\n"
          ]
        }
      ]
    },
    {
      "cell_type": "markdown",
      "source": [
        "**smart ways of wriring the varaibles**"
      ],
      "metadata": {
        "id": "sq4XGgBiMqw3"
      }
    },
    {
      "cell_type": "code",
      "source": [
        "#1.assign multiple values to multiple varaibles and print it in a separate line?\n",
        "#Hint:- take any 3 varaibles and assign 3 values\n",
        "a = 10\n",
        "b = 3\n",
        "c = 6\n",
        "print(a)\n",
        "print(b)\n",
        "print(c)"
      ],
      "metadata": {
        "colab": {
          "base_uri": "https://localhost:8080/"
        },
        "id": "j-v8IcJLPHxl",
        "outputId": "e6269b01-ead6-4619-b511-b778884619a0"
      },
      "execution_count": null,
      "outputs": [
        {
          "output_type": "stream",
          "name": "stdout",
          "text": [
            "10\n",
            "3\n",
            "6\n"
          ]
        }
      ]
    },
    {
      "cell_type": "code",
      "source": [
        "a,b,c = 10,3,6\n",
        "# print(a)\n",
        "# print(b)\n",
        "# print(c)\n",
        "#to print the ouput in separate lines we use  a keword-->  \"sep = \\n\"\n",
        "print(a,b,c, sep='\\n')"
      ],
      "metadata": {
        "colab": {
          "base_uri": "https://localhost:8080/"
        },
        "id": "Rq0cnGR4PkuH",
        "outputId": "4bb4d8c5-3e25-4804-a540-ecc1c10eda64"
      },
      "execution_count": null,
      "outputs": [
        {
          "output_type": "stream",
          "name": "stdout",
          "text": [
            "10\n",
            "3\n",
            "6\n"
          ]
        }
      ]
    },
    {
      "cell_type": "code",
      "source": [
        "#2.assign a same value to the multiple varaibles and print it in a separate line?\n",
        "#hint:- take 3 varaibles and assign same value for it\n",
        "a = 10\n",
        "b = 10\n",
        "c = 10\n",
        "print(a,b,c,sep='\\n')"
      ],
      "metadata": {
        "colab": {
          "base_uri": "https://localhost:8080/"
        },
        "id": "jyAIsckmQId2",
        "outputId": "dff089c1-560d-4f76-b9c4-66e40c65594c"
      },
      "execution_count": null,
      "outputs": [
        {
          "output_type": "stream",
          "name": "stdout",
          "text": [
            "10\n",
            "10\n",
            "10\n"
          ]
        }
      ]
    },
    {
      "cell_type": "code",
      "source": [
        "a,b,c = 10,10,10\n",
        "print(a,b,c,sep='\\n')"
      ],
      "metadata": {
        "colab": {
          "base_uri": "https://localhost:8080/"
        },
        "id": "-a3ETEZ2Qkv0",
        "outputId": "0cf7a4a2-16e1-4a84-9870-7caecc93ab2f"
      },
      "execution_count": null,
      "outputs": [
        {
          "output_type": "stream",
          "name": "stdout",
          "text": [
            "10\n",
            "10\n",
            "10\n"
          ]
        }
      ]
    },
    {
      "cell_type": "code",
      "source": [
        "a = b = c = 10\n",
        "print(a,b,c,sep='\\n')"
      ],
      "metadata": {
        "colab": {
          "base_uri": "https://localhost:8080/"
        },
        "id": "lnPSUuuWQxsP",
        "outputId": "ae2a2894-1725-4055-d7ab-df039da7de6b"
      },
      "execution_count": null,
      "outputs": [
        {
          "output_type": "stream",
          "name": "stdout",
          "text": [
            "10\n",
            "10\n",
            "10\n"
          ]
        }
      ]
    },
    {
      "cell_type": "markdown",
      "source": [
        "#09-01-2025"
      ],
      "metadata": {
        "id": "D6MASy4CJQui"
      }
    },
    {
      "cell_type": "markdown",
      "source": [
        "**Keywords**"
      ],
      "metadata": {
        "id": "neVOHXyUJbjx"
      }
    },
    {
      "cell_type": "code",
      "source": [
        "#what is keywords?\n",
        "#Keywords are inbuilt, reserved words\n",
        "#7.we cannot use the 'keywords' as an varaible\n",
        "import keyword\n",
        "print(keyword.kwlist)\n",
        "# and = \"hello\"\n",
        "# print(and)"
      ],
      "metadata": {
        "colab": {
          "base_uri": "https://localhost:8080/"
        },
        "id": "jVBieQ7jJa2Z",
        "outputId": "93e82282-c730-4c3f-8eda-339bc45bbffa"
      },
      "execution_count": null,
      "outputs": [
        {
          "output_type": "stream",
          "name": "stdout",
          "text": [
            "['False', 'None', 'True', 'and', 'as', 'assert', 'async', 'await', 'break', 'class', 'continue', 'def', 'del', 'elif', 'else', 'except', 'finally', 'for', 'from', 'global', 'if', 'import', 'in', 'is', 'lambda', 'nonlocal', 'not', 'or', 'pass', 'raise', 'return', 'try', 'while', 'with', 'yield']\n"
          ]
        }
      ]
    },
    {
      "cell_type": "markdown",
      "source": [
        "**Input()**"
      ],
      "metadata": {
        "id": "rltusOQeKoob"
      }
    },
    {
      "cell_type": "code",
      "source": [
        "#what is input()?\n",
        "#input() defined as, it takes any information or valuable data from user to store and reuse it.\n",
        "#How can we create an input() ?\n",
        "#how can we access information in input()?"
      ],
      "metadata": {
        "id": "mzOoEyf2RMSw"
      },
      "execution_count": null,
      "outputs": []
    },
    {
      "cell_type": "code",
      "source": [
        "#take two varaibles and apply all the athametic operations?\n",
        "a = 10\n",
        "b = 5\n",
        "print(a+b)\n",
        "print(a-b)\n",
        "print(a*b)\n",
        "print(a/b)\n",
        "print(a%b)\n",
        "print(a**b)\n",
        "print(a//b)"
      ],
      "metadata": {
        "id": "2dhyV9bkK2uX"
      },
      "execution_count": null,
      "outputs": []
    },
    {
      "cell_type": "code",
      "source": [
        "#How can we create an input() ?\n",
        "#By using \"input()\" and assign it to a varaible\n",
        "a = input(\"enter the Number: \")\n",
        "b = input(\"enter the Number: \")\n",
        "##how can we access information in input()?\n",
        "#by using \"print()\"\n",
        "print(a+b)\n",
        "print(type(a+b))\n",
        "#what is the default data type for a input()?\n",
        "#it is \"string\"\n",
        "#why the default data type for input() is a string?\n",
        "#string is a collection of multiple characters, SO the data type which accepts all the information or any data from user is string\n",
        "#so thats why the default data type for input() is a string\n"
      ],
      "metadata": {
        "colab": {
          "base_uri": "https://localhost:8080/"
        },
        "id": "N398uK4RLRz8",
        "outputId": "599f84b2-3abb-4669-9abd-b9e3d2de6e59"
      },
      "execution_count": null,
      "outputs": [
        {
          "output_type": "stream",
          "name": "stdout",
          "text": [
            "enter the Number: Hello\n",
            "enter the Number: world\n",
            "Helloworld\n",
            "<class 'str'>\n"
          ]
        }
      ]
    },
    {
      "cell_type": "code",
      "source": [
        "#what is concatenation?\n",
        "#Adding of two strings is known as concatenation\n",
        "a = input(\"enter the Number: \")\n",
        "b = input(\"enter the Number: \")\n",
        "#how can we access information in input()?\n",
        "#by using \"print()\"\n",
        "print(a+\" \"+b)"
      ],
      "metadata": {
        "colab": {
          "base_uri": "https://localhost:8080/"
        },
        "id": "xVB6Kiu0OLVH",
        "outputId": "eff020fc-8d17-422f-cc2d-14ba6d74da4f"
      },
      "execution_count": null,
      "outputs": [
        {
          "output_type": "stream",
          "name": "stdout",
          "text": [
            "enter the Number: Hello\n",
            "enter the Number: World!\n",
            "Hello World!\n"
          ]
        }
      ]
    },
    {
      "cell_type": "code",
      "source": [
        "#How can we deal with numerical data when user is having more numerical inputs?\n",
        "#we need to define the input() with numerical data types\n",
        "##take two inputs and apply all the athametic operations?\n",
        "a = int(input(\"enetr the number1: \"))\n",
        "b = int(input(\"enter the number2: \"))\n",
        "print(a+b)\n",
        "print(a-b)\n",
        "print(a*b)\n",
        "print(a/b)\n",
        "print(a%b)\n",
        "print(a**b)\n",
        "print(a//b)"
      ],
      "metadata": {
        "id": "XB3Ei5XqOyHD"
      },
      "execution_count": null,
      "outputs": []
    },
    {
      "cell_type": "code",
      "source": [
        "#Take two input() and apply the arthametic operations on it. Note:- take two float inputs"
      ],
      "metadata": {
        "id": "UeERmD2hPt5B"
      },
      "execution_count": null,
      "outputs": []
    },
    {
      "cell_type": "markdown",
      "source": [
        "**Strings**"
      ],
      "metadata": {
        "id": "Zka_6796TIcT"
      }
    },
    {
      "cell_type": "code",
      "source": [
        "#what is a string?\n",
        "#String is a sequence of collection multiple characters where each character can be accessible\n",
        "#How can we access the charcter from the string?\n",
        "#By using the \"indexes\" and slicing operator\n",
        "#what is index?\n",
        "#indexes is nothing but sequential position number of each charcter in the string\n",
        "#indexes can be starts from zero \"0\"\n",
        "#what is slicing?\n",
        "#accessing a range of characters from the mainstring is known slicing,\n",
        "#and the range of charcters from mainstring is known as substring\n",
        "#slicing can be done by using slicing operator---> []"
      ],
      "metadata": {
        "id": "12ZGbJZaTLpr"
      },
      "execution_count": null,
      "outputs": []
    },
    {
      "cell_type": "code",
      "source": [
        "a = \"Hello world!\"\n",
        "#i want to access the letter \"e\" from above string\n",
        "#syntax:- string_name[start_index]\n",
        "print(a[1])\n",
        "print(a[6])"
      ],
      "metadata": {
        "id": "G6-VW6utV5Tb"
      },
      "execution_count": null,
      "outputs": []
    },
    {
      "cell_type": "code",
      "source": [
        "a = \"Hello world!\"\n",
        "#i want to access a range of characters from the string? \"ello\"\n",
        "#syntax:-  string_name[start_index:end_index]    -->end index--> is n+1 bcz slicing stops before one index position number\n",
        "print(a[1:5])\n",
        "#print a range of characters \"world\" from above string\n",
        "print(a[6:11])"
      ],
      "metadata": {
        "colab": {
          "base_uri": "https://localhost:8080/"
        },
        "id": "u3MLT5N1WVbu",
        "outputId": "5345641c-78a2-49f4-ce38-38b065f0cbb7"
      },
      "execution_count": null,
      "outputs": [
        {
          "output_type": "stream",
          "name": "stdout",
          "text": [
            "ello\n",
            "world\n"
          ]
        }
      ]
    },
    {
      "cell_type": "code",
      "source": [
        "a = \"Hello world!\"\n",
        "#print the even index position characters from the above string\n",
        "#syntax:-  string_name[start_index:end_index:step_index]\n",
        "print(a[0:12:2])\n",
        "#print the odd index position characters from the above string\n",
        "print(a[1:12:2])"
      ],
      "metadata": {
        "colab": {
          "base_uri": "https://localhost:8080/"
        },
        "id": "QU3jHMCCXSne",
        "outputId": "7d474396-b8ce-411d-abdc-21a65bf40217"
      },
      "execution_count": null,
      "outputs": [
        {
          "output_type": "stream",
          "name": "stdout",
          "text": [
            "Hlowrd\n",
            "el ol!\n"
          ]
        }
      ]
    },
    {
      "cell_type": "code",
      "source": [
        "#print the last character from above string?\n",
        "print(a[11])\n",
        "#how can we find the length of a string?\n",
        "#By using the \"len()\"\n",
        "#length can be starts from 1\n",
        "print(len(a))"
      ],
      "metadata": {
        "colab": {
          "base_uri": "https://localhost:8080/"
        },
        "id": "7p-nRGZTYwoD",
        "outputId": "28a21a62-5200-4302-b045-9facb85f04b5"
      },
      "execution_count": null,
      "outputs": [
        {
          "output_type": "stream",
          "name": "stdout",
          "text": [
            "!\n",
            "12\n"
          ]
        }
      ]
    },
    {
      "cell_type": "code",
      "source": [
        "#find the length of below string?\n",
        "d = \"Hello Good Morning!\"\n",
        "print(len(d))\n",
        "print(d[len(d)-1])"
      ],
      "metadata": {
        "colab": {
          "base_uri": "https://localhost:8080/"
        },
        "id": "y8hrWCZuZQyL",
        "outputId": "e1876e59-4493-4621-a11d-5339a585e333"
      },
      "execution_count": null,
      "outputs": [
        {
          "output_type": "stream",
          "name": "stdout",
          "text": [
            "19\n",
            "!\n"
          ]
        }
      ]
    },
    {
      "cell_type": "markdown",
      "source": [
        "#Negative indexing"
      ],
      "metadata": {
        "id": "Z0u865DiZuMa"
      }
    },
    {
      "cell_type": "code",
      "source": [
        "#what is negative indexing?\n",
        "#accessing the characters in reverse direction isknown as -ve indexing.\n",
        "#-ve indexing starts from -1\n",
        "d = \"Hello Good Morning!\"\n",
        "#print the last character\n",
        "print(d[-1])\n",
        "#print the above string in reverse order\n",
        "#Note:- By default the slicing can be done in left to right hand direction\n",
        "print(d[-1:-20:-1])"
      ],
      "metadata": {
        "colab": {
          "base_uri": "https://localhost:8080/"
        },
        "id": "94GwCvVdZySa",
        "outputId": "04fca422-79cc-4c3a-eb6d-94982ae0ea8e"
      },
      "execution_count": null,
      "outputs": [
        {
          "output_type": "stream",
          "name": "stdout",
          "text": [
            "!\n",
            "\n"
          ]
        }
      ]
    },
    {
      "cell_type": "markdown",
      "source": [
        "-ve indexing\n",
        "\n",
        "default indexing\n",
        "\n",
        "string methods\n",
        "\n",
        "string format methods\n",
        "\n",
        "escape characters"
      ],
      "metadata": {
        "id": "0LJRVG64bQwi"
      }
    },
    {
      "cell_type": "markdown",
      "source": [
        "#10-01-2025"
      ],
      "metadata": {
        "id": "SLq9rfJ9TTPE"
      }
    },
    {
      "cell_type": "markdown",
      "source": [
        "**Negative indexing**"
      ],
      "metadata": {
        "id": "OEu-xJ-JTa5z"
      }
    },
    {
      "cell_type": "code",
      "source": [
        "#what is Negative indexing?\n",
        "#accessing the characters of a string in reverse direction is known as -ve indexing.\n",
        "#-ve  indexing starts from -1\n",
        "a = \"Hello world!\"\n",
        "#syntax:- string_name[start]\n",
        "#i want to print a last characters from the string\n",
        "print(a[-1])\n",
        "#if i want to print a range of characters in reverese direction     \"!dlrow\"\n",
        "##syntax:- string_name[start:end:step]\n",
        "print(a[-1:-7:-1])\n",
        "#if the -ve slicing is from higher to lower value means by default left to right direction then we acn access the string in right order\n",
        "print(a[-6:-1])\n",
        "#Note:- the default slicing direction is from left to right direction."
      ],
      "metadata": {
        "colab": {
          "base_uri": "https://localhost:8080/"
        },
        "id": "jzIaae3OTgzK",
        "outputId": "2b81a51a-8e4a-4ce9-b28c-acdb4e5f3c0d"
      },
      "execution_count": null,
      "outputs": [
        {
          "output_type": "stream",
          "name": "stdout",
          "text": [
            "!\n",
            "!dlrow\n",
            "world\n"
          ]
        }
      ]
    },
    {
      "cell_type": "code",
      "source": [
        "print(a[0:-7])"
      ],
      "metadata": {
        "colab": {
          "base_uri": "https://localhost:8080/"
        },
        "id": "VqEVNEpjVe2n",
        "outputId": "3c64773e-fec0-4863-d7a4-fdbf05b0a302"
      },
      "execution_count": null,
      "outputs": [
        {
          "output_type": "stream",
          "name": "stdout",
          "text": [
            "Hello\n"
          ]
        }
      ]
    },
    {
      "cell_type": "markdown",
      "source": [
        "**Default indexing**"
      ],
      "metadata": {
        "id": "MNanSMgOV6cC"
      }
    },
    {
      "cell_type": "code",
      "source": [
        "#what is default indexing?\n",
        "#by default the 'start position' can be '0' zero and 'end position' can be 'len(string)' and step position can be '1'\n",
        "a = \"Hello world!\"\n",
        "#[default_satrt[0]:default_end[len(str):default_step(1)]]\n",
        "print(a[:])\n",
        "print(a[::])\n",
        "#print the even characters from above string\n",
        "print(a[0:12:2])\n",
        "print(a[::2])\n",
        "#print the odd characters by using the default indexing.\n",
        "print(a[1::2])\n",
        "print(a[1:12:2])"
      ],
      "metadata": {
        "colab": {
          "base_uri": "https://localhost:8080/"
        },
        "id": "qpKew7atV-M3",
        "outputId": "fc4328ea-a62e-4852-ab67-fd6b200dbd05"
      },
      "execution_count": null,
      "outputs": [
        {
          "output_type": "stream",
          "name": "stdout",
          "text": [
            "Hello world!\n",
            "Hello world!\n",
            "Hlowrd\n",
            "Hlowrd\n",
            "el ol!\n",
            "el ol!\n"
          ]
        }
      ]
    },
    {
      "cell_type": "code",
      "source": [
        "#reverse a string and tell weater it is palindrome or not?\n",
        "a = input(\"enter your string: \")\n",
        "print(a[::-1])"
      ],
      "metadata": {
        "colab": {
          "base_uri": "https://localhost:8080/"
        },
        "id": "GBElxQpkZTlU",
        "outputId": "72e797a8-3fed-4bce-c3d2-9ce6d395f9f6"
      },
      "execution_count": null,
      "outputs": [
        {
          "output_type": "stream",
          "name": "stdout",
          "text": [
            "enter your string: malayalam\n",
            "malayalam\n"
          ]
        }
      ]
    },
    {
      "cell_type": "markdown",
      "source": [
        "**String Methods**"
      ],
      "metadata": {
        "id": "6-75SH_0cZ20"
      }
    },
    {
      "cell_type": "code",
      "source": [
        "#what is string methods?\n",
        "#The methods that we can apply on particular string is known as \"string methods\"\n",
        "#what are all string methods we can apply on a paritcular string?\n",
        "# by using \"dir()\" it returns the methods that can be applicable for particular string\n",
        "a = \"hello world!\"\n",
        "print(dir(a))"
      ],
      "metadata": {
        "colab": {
          "base_uri": "https://localhost:8080/"
        },
        "id": "SGmj_YKMccuk",
        "outputId": "eb2a3b97-4ecd-4408-a947-cd127735e64a"
      },
      "execution_count": null,
      "outputs": [
        {
          "output_type": "stream",
          "name": "stdout",
          "text": [
            "['__add__', '__class__', '__contains__', '__delattr__', '__dir__', '__doc__', '__eq__', '__format__', '__ge__', '__getattribute__', '__getitem__', '__getnewargs__', '__gt__', '__hash__', '__init__', '__init_subclass__', '__iter__', '__le__', '__len__', '__lt__', '__mod__', '__mul__', '__ne__', '__new__', '__reduce__', '__reduce_ex__', '__repr__', '__rmod__', '__rmul__', '__setattr__', '__sizeof__', '__str__', '__subclasshook__', 'capitalize', 'casefold', 'center', 'count', 'encode', 'endswith', 'expandtabs', 'find', 'format', 'format_map', 'index', 'isalnum', 'isalpha', 'isascii', 'isdecimal', 'isdigit', 'isidentifier', 'islower', 'isnumeric', 'isprintable', 'isspace', 'istitle', 'isupper', 'join', 'ljust', 'lower', 'lstrip', 'maketrans', 'partition', 'removeprefix', 'removesuffix', 'replace', 'rfind', 'rindex', 'rjust', 'rpartition', 'rsplit', 'rstrip', 'split', 'splitlines', 'startswith', 'strip', 'swapcase', 'title', 'translate', 'upper', 'zfill']\n"
          ]
        }
      ]
    },
    {
      "cell_type": "code",
      "source": [
        "\"\"\"'capitalize', 'casefold', 'center', 'count', 'encode', 'endswith', 'expandtabs', 'find', 'format',\n",
        "'format_map', 'index', 'isalnum', 'isalpha', 'isascii', 'isdecimal', 'isdigit', 'isidentifier', 'islower', 'isnumeric',\n",
        "'isprintable', 'isspace', 'istitle', 'isupper', 'join', 'ljust', 'lower', 'lstrip', 'maketrans', 'partition',\n",
        "'removeprefix', 'removesuffix', 'replace','rfind', 'rindex', 'rjust', 'rpartition', 'rsplit', 'rstrip',\n",
        "'split', 'splitlines', 'startswith', 'strip', 'swapcase', 'title', 'translate', 'upper', 'zfill' \"\"\""
      ],
      "metadata": {
        "id": "H1mU2Aa9dTX_"
      },
      "execution_count": null,
      "outputs": []
    },
    {
      "cell_type": "code",
      "source": [
        "#1.capitalize()--> converts the 1st letter in to capital letter\n",
        "print(a.capitalize())"
      ],
      "metadata": {
        "colab": {
          "base_uri": "https://localhost:8080/"
        },
        "id": "fAdDRju6di7M",
        "outputId": "576ebcf6-3d49-45ad-fcef-c8b3beab75fe"
      },
      "execution_count": null,
      "outputs": [
        {
          "output_type": "stream",
          "name": "stdout",
          "text": [
            "Hello world!\n"
          ]
        }
      ]
    },
    {
      "cell_type": "code",
      "source": [
        "#2.upper()--> coverts string in to uppercase letters\n",
        "print(a.upper())"
      ],
      "metadata": {
        "colab": {
          "base_uri": "https://localhost:8080/"
        },
        "id": "EDJprfTvd0iY",
        "outputId": "9d1ad55f-9921-490f-c341-c291c98a1a31"
      },
      "execution_count": null,
      "outputs": [
        {
          "output_type": "stream",
          "name": "stdout",
          "text": [
            "HELLO WORLD!\n"
          ]
        }
      ]
    },
    {
      "cell_type": "code",
      "source": [
        "#3.lower()--> converts the string in to lowercase letters\n",
        "print(a.lower())"
      ],
      "metadata": {
        "colab": {
          "base_uri": "https://localhost:8080/"
        },
        "id": "pTQSGIhYd-9X",
        "outputId": "dd1a6cd1-319f-4727-e05d-c0923415bd78"
      },
      "execution_count": null,
      "outputs": [
        {
          "output_type": "stream",
          "name": "stdout",
          "text": [
            "hello world!\n"
          ]
        }
      ]
    },
    {
      "cell_type": "code",
      "source": [
        "#4.strip()-->removes the unwanted white spaces of a string\n",
        "a = \"    hello world!       \"\n",
        "print(a.strip())"
      ],
      "metadata": {
        "colab": {
          "base_uri": "https://localhost:8080/"
        },
        "id": "xqgQt6ixeKF4",
        "outputId": "73716a41-ba71-43e6-f684-c5060fefd42f"
      },
      "execution_count": null,
      "outputs": [
        {
          "output_type": "stream",
          "name": "stdout",
          "text": [
            "hello world!\n"
          ]
        }
      ]
    },
    {
      "cell_type": "code",
      "source": [
        "#5.lstrip():- removes the unwated spaces from left side\n",
        "a = \"    hello world!       \"\n",
        "print(a.lstrip())"
      ],
      "metadata": {
        "colab": {
          "base_uri": "https://localhost:8080/"
        },
        "id": "-KDP4_a5eZFj",
        "outputId": "e7d936e2-6c8c-43ea-8d64-d9880e1b998f"
      },
      "execution_count": null,
      "outputs": [
        {
          "output_type": "stream",
          "name": "stdout",
          "text": [
            "hello world!       \n"
          ]
        }
      ]
    },
    {
      "cell_type": "code",
      "source": [
        "#6.rstrip():- removes the unwanted spaces from right side\n",
        "a = \"    hello world!       \"\n",
        "print(a.rstrip())"
      ],
      "metadata": {
        "colab": {
          "base_uri": "https://localhost:8080/"
        },
        "id": "a1COdhg7ergK",
        "outputId": "e342bc9c-6b24-4677-a1df-6b7b7e91e91f"
      },
      "execution_count": null,
      "outputs": [
        {
          "output_type": "stream",
          "name": "stdout",
          "text": [
            "    hello world!\n"
          ]
        }
      ]
    },
    {
      "cell_type": "code",
      "source": [
        "#7.replace:- replace old string with new string-->*******\n",
        "a = \"Hello world!\"\n",
        "#in above string replace world! with universe\n",
        "print(a.replace('world','Universe'))"
      ],
      "metadata": {
        "colab": {
          "base_uri": "https://localhost:8080/"
        },
        "id": "xVBrdjbbe5fj",
        "outputId": "1f8690c3-2b18-49dc-ac5f-41b2052e54e3"
      },
      "execution_count": null,
      "outputs": [
        {
          "output_type": "stream",
          "name": "stdout",
          "text": [
            "Hello Universe!\n"
          ]
        }
      ]
    },
    {
      "cell_type": "code",
      "source": [
        "#can we use slicing method to replace particular items in astring\n",
        "a[6:] = 'Universe'  #'str' object does not support item assignment\n",
        "#so we cannot use the slicing operation to replace the characters in the string"
      ],
      "metadata": {
        "id": "jp_ITxpNfXwj"
      },
      "execution_count": null,
      "outputs": []
    },
    {
      "cell_type": "code",
      "source": [
        "#7.find() -->method returns the index position of particular ccharcter if the character is not present means it return -1\n",
        "a = \"Hello world!\"\n",
        "print(a.find('r'))\n",
        "#str.find(value,end,start)\n",
        "\n",
        "b = \"Hello,Welcome to my world\"\n",
        "x = b.find(\"e\",5,10)\n",
        "print(x)"
      ],
      "metadata": {
        "colab": {
          "base_uri": "https://localhost:8080/"
        },
        "id": "HmCT37xjgFWQ",
        "outputId": "3ab81472-398d-469c-db27-63db8e8481c6"
      },
      "execution_count": null,
      "outputs": [
        {
          "output_type": "stream",
          "name": "stdout",
          "text": [
            "8\n",
            "7\n"
          ]
        }
      ]
    },
    {
      "cell_type": "code",
      "source": [
        "#8.title()--> it convert the 1st letter in to capital letter after every white space\n",
        "a = \"hello world!\"\n",
        "print(a.title())"
      ],
      "metadata": {
        "colab": {
          "base_uri": "https://localhost:8080/"
        },
        "id": "D_pL9VjegpaB",
        "outputId": "8caa07a7-e378-4e63-f6fb-96cebebce4a1"
      },
      "execution_count": null,
      "outputs": [
        {
          "output_type": "stream",
          "name": "stdout",
          "text": [
            "Hello World!\n"
          ]
        }
      ]
    },
    {
      "cell_type": "code",
      "source": [
        "#9.index()--> it is similar to find() it reurns \"index position numbers\"\n",
        "print(a.index('r'))\n",
        "print(a.index('e'))"
      ],
      "metadata": {
        "colab": {
          "base_uri": "https://localhost:8080/"
        },
        "id": "mwGqX76XhLls",
        "outputId": "29207bc4-6f2f-47db-dc05-8d2e964f1187"
      },
      "execution_count": null,
      "outputs": [
        {
          "output_type": "stream",
          "name": "stdout",
          "text": [
            "8\n",
            "1\n"
          ]
        }
      ]
    },
    {
      "cell_type": "code",
      "source": [
        "#10.swapcase()---> it coverts upper case in to lower and lower case in to upper case.\n",
        "a = \"HeLLo WoRoLD!\"\n",
        "print(a.swapcase())"
      ],
      "metadata": {
        "colab": {
          "base_uri": "https://localhost:8080/"
        },
        "id": "jZdEjGAthm7b",
        "outputId": "46376b91-8080-41ec-eb3a-b370eac85a26"
      },
      "execution_count": null,
      "outputs": [
        {
          "output_type": "stream",
          "name": "stdout",
          "text": [
            "hEllO wOrOld!\n"
          ]
        }
      ]
    },
    {
      "cell_type": "markdown",
      "source": [
        "**string format method**"
      ],
      "metadata": {
        "id": "jiB4fpUniHsl"
      }
    },
    {
      "cell_type": "code",
      "source": [
        "age = 10\n",
        "txt = \"i am ___ years old\"\n",
        "print(\"i am 10 years old\")\n",
        "#f'string methods':- it takes an argument and place it over the place holder {}\n"
      ],
      "metadata": {
        "id": "KQD0OSKQiMb3"
      },
      "execution_count": null,
      "outputs": []
    },
    {
      "cell_type": "code",
      "source": [
        "age  = 10\n",
        "txt = f\"i am {age} years old\"\n",
        "print(txt)"
      ],
      "metadata": {
        "colab": {
          "base_uri": "https://localhost:8080/"
        },
        "id": "XjhIr3EdkUDu",
        "outputId": "d90dc0c2-669e-421e-dbe4-9bc478977898"
      },
      "execution_count": null,
      "outputs": [
        {
          "output_type": "stream",
          "name": "stdout",
          "text": [
            "i am 10 years old\n"
          ]
        }
      ]
    },
    {
      "cell_type": "code",
      "source": [
        "name = input(\"enter your name: \")\n",
        "txt = f\"welcome {name}, to HFC Bank\"\n",
        "print(txt)"
      ],
      "metadata": {
        "colab": {
          "base_uri": "https://localhost:8080/"
        },
        "id": "govkdujzkqLQ",
        "outputId": "3734c2d0-2eeb-4a7c-8ab4-fe33808eeb8e"
      },
      "execution_count": null,
      "outputs": [
        {
          "output_type": "stream",
          "name": "stdout",
          "text": [
            "enter your name: xyz\n",
            "welcome xyz, to HFC Bank\n"
          ]
        }
      ]
    },
    {
      "cell_type": "markdown",
      "source": [
        "**escape chracters**"
      ],
      "metadata": {
        "id": "CqbAUMZvlEAN"
      }
    },
    {
      "cell_type": "code",
      "source": [
        "a = \"Hello \"good morning\"  !\"\n",
        "print(a)"
      ],
      "metadata": {
        "colab": {
          "base_uri": "https://localhost:8080/",
          "height": 110
        },
        "id": "2YwGG6Q4lGvw",
        "outputId": "5b4d7f59-fe84-40b5-8033-81f40e31547d"
      },
      "execution_count": null,
      "outputs": [
        {
          "output_type": "error",
          "ename": "SyntaxError",
          "evalue": "invalid syntax (<ipython-input-42-e292e4c24a13>, line 1)",
          "traceback": [
            "\u001b[0;36m  File \u001b[0;32m\"<ipython-input-42-e292e4c24a13>\"\u001b[0;36m, line \u001b[0;32m1\u001b[0m\n\u001b[0;31m    a = \"Hello \"good morning\"  !\"\u001b[0m\n\u001b[0m                ^\u001b[0m\n\u001b[0;31mSyntaxError\u001b[0m\u001b[0;31m:\u001b[0m invalid syntax\n"
          ]
        }
      ]
    },
    {
      "cell_type": "code",
      "source": [
        "#what is escape characters?\n",
        "#if you want to print illeagal characters in the string use escape characters---> \\(back ward slash) infornt of illegal characters\n",
        "a = \"Dwayne \\\"The Rock\\\" Jhonson\"\n",
        "print(a)\n"
      ],
      "metadata": {
        "colab": {
          "base_uri": "https://localhost:8080/"
        },
        "id": "qU5OM7GblX2v",
        "outputId": "c3f6adec-feaa-40ed-be38-44a2e507fad5"
      },
      "execution_count": null,
      "outputs": [
        {
          "output_type": "stream",
          "name": "stdout",
          "text": [
            "Dwayne \"The Rock\" Jhonson\n"
          ]
        }
      ]
    },
    {
      "cell_type": "markdown",
      "source": [
        "#**11-01-2025**"
      ],
      "metadata": {
        "id": "PHs2UNCSpwts"
      }
    },
    {
      "cell_type": "markdown",
      "source": [
        "**Data Type conversion**"
      ],
      "metadata": {
        "id": "-0_W62_yp3RL"
      }
    },
    {
      "cell_type": "code",
      "source": [
        "a = \"12345\"\n",
        "#convert the above data in to int\n",
        "print(type(a))\n",
        "b = int(a)\n",
        "print(type(b))\n",
        "#can we convert a number in string format  to --> int data type--> yes"
      ],
      "metadata": {
        "colab": {
          "base_uri": "https://localhost:8080/"
        },
        "id": "FKLmTv7Kp19g",
        "outputId": "eb8cdbc2-f35c-4d58-b45f-60d0c665d828"
      },
      "execution_count": null,
      "outputs": [
        {
          "output_type": "stream",
          "name": "stdout",
          "text": [
            "<class 'str'>\n",
            "<class 'int'>\n"
          ]
        }
      ]
    },
    {
      "cell_type": "code",
      "source": [
        "b = '9.3763654'\n",
        "print(type(b))\n",
        "#convert the above string data in to float\n",
        "c = float(b)\n",
        "print(type(c))"
      ],
      "metadata": {
        "colab": {
          "base_uri": "https://localhost:8080/"
        },
        "id": "V5hOU1CJrivT",
        "outputId": "0ab15338-349d-4748-f028-9d745844938a"
      },
      "execution_count": null,
      "outputs": [
        {
          "output_type": "stream",
          "name": "stdout",
          "text": [
            "<class 'str'>\n",
            "<class 'float'>\n"
          ]
        }
      ]
    },
    {
      "cell_type": "code",
      "source": [
        "#can we convert a float in to integer-->yes we can convert\n",
        "a = 34.5767\n",
        "d = int(a)\n",
        "print(d)"
      ],
      "metadata": {
        "colab": {
          "base_uri": "https://localhost:8080/"
        },
        "id": "cA-Y9CEYr7wk",
        "outputId": "93868ee0-a43b-44f9-9ab1-65f26f62848d"
      },
      "execution_count": null,
      "outputs": [
        {
          "output_type": "stream",
          "name": "stdout",
          "text": [
            "34\n"
          ]
        }
      ]
    },
    {
      "cell_type": "code",
      "source": [
        "#can we convert an int to float\n",
        "a = 4\n",
        "b = float(a)\n",
        "print(b)"
      ],
      "metadata": {
        "colab": {
          "base_uri": "https://localhost:8080/"
        },
        "id": "OMZ2tdeasRN5",
        "outputId": "288b0a80-d63a-48ee-9f08-c35c61c4cc84"
      },
      "execution_count": null,
      "outputs": [
        {
          "output_type": "stream",
          "name": "stdout",
          "text": [
            "4.0\n"
          ]
        }
      ]
    },
    {
      "cell_type": "code",
      "source": [
        "#can we convert a float into an string--->yes\n",
        "a = 12.567\n",
        "d = str(a)\n",
        "print(type(d))"
      ],
      "metadata": {
        "colab": {
          "base_uri": "https://localhost:8080/"
        },
        "id": "HiFLIRRbqQ_r",
        "outputId": "2be0698f-008d-480c-b9de-31916d1d9b90"
      },
      "execution_count": null,
      "outputs": [
        {
          "output_type": "stream",
          "name": "stdout",
          "text": [
            "<class 'str'>\n"
          ]
        }
      ]
    },
    {
      "cell_type": "code",
      "source": [
        "#can we convert a int into an string--->yes\n",
        "a = 10\n",
        "c = str(a)\n",
        "print(type(c))\n"
      ],
      "metadata": {
        "colab": {
          "base_uri": "https://localhost:8080/"
        },
        "id": "CU_I6agLsxLD",
        "outputId": "c30e625d-aed1-4f23-b74d-d0bfe3cebe97"
      },
      "execution_count": null,
      "outputs": [
        {
          "output_type": "stream",
          "name": "stdout",
          "text": [
            "<class 'str'>\n"
          ]
        }
      ]
    },
    {
      "cell_type": "code",
      "source": [
        "#string format\n",
        "#your has been confirmed for product name with an quitty\n",
        "item_name = input(\"enter product name: \")\n",
        "quantity = int(input(\"enter Number of items: \"))\n",
        "price_each = float(input(\"enter price of each item:\"))\n",
        "Notification = (f\"your order for {item_name} has been confirmed with an quantity of {quantity} and Total price of {price_each*quantity}/-\")\n",
        "print(Notification)"
      ],
      "metadata": {
        "colab": {
          "base_uri": "https://localhost:8080/"
        },
        "id": "6Qa2EesVs_bY",
        "outputId": "eae37263-3531-4df1-b2f2-273a147b87b1"
      },
      "execution_count": null,
      "outputs": [
        {
          "output_type": "stream",
          "name": "stdout",
          "text": [
            "enter product name: mobile A\n",
            "enter Number of items: 10\n",
            "enter price of each item:9999.0\n",
            "your order for mobile A has been confirmed with an quantity of 10 and Total price of 99990.0/-\n"
          ]
        }
      ]
    },
    {
      "cell_type": "markdown",
      "source": [
        "#17-01-2025"
      ],
      "metadata": {
        "id": "llg2jkvFWoJV"
      }
    },
    {
      "cell_type": "code",
      "source": [
        "#what is escape characters?\n",
        "#why the default data type for input() is string?\n",
        "#the only data type which can collect all the information from the user is string.\n",
        "#we can start creating the varaible by using number-->T/F--->ans false\n",
        "#is python is a case sensitive program language-----> T/F--->Ans True\n",
        "#  Hello Team \"Good Day!\". Today we are having session about \"Conditional statements\"--> print it with illegal characters"
      ],
      "metadata": {
        "id": "liFMTMm4XGBZ"
      },
      "execution_count": null,
      "outputs": []
    },
    {
      "cell_type": "markdown",
      "source": [
        "**Conditional statements**"
      ],
      "metadata": {
        "id": "kDrTzorAWsKN"
      }
    },
    {
      "cell_type": "code",
      "source": [
        "#define conditional statements or what is conditional statement?\n",
        "#To check weather the condition is false or true (or) to write any decision making codes in python we use conditional statements\n",
        "#How can you write a decision making program or) how can you check a condition?\n",
        "#we are using \"comparision operators\" or \"relational operators\"\n",
        "#There are 6 comparision operators\n",
        "\"\"\" 1. equals too--->  ==\n",
        "    2. Not equals too --->  !=\n",
        "    3. greater than -----> >\n",
        "    4. less than ---> <\n",
        "    5. greater than or euqal too ---> >=\n",
        "    6. less than or equal too ---->    <=  \"\"\"\n"
      ],
      "metadata": {
        "id": "GOhcETA3W0Hf"
      },
      "execution_count": null,
      "outputs": []
    },
    {
      "cell_type": "code",
      "source": [
        "#what are all conditional statements do we have in python?\n",
        "#1.if\n",
        "#2.elif\n",
        "#3.else"
      ],
      "metadata": {
        "id": "dB8AddBFbXYO"
      },
      "execution_count": null,
      "outputs": []
    },
    {
      "cell_type": "code",
      "source": [
        "#write a program to check weather the student is pass or faill\n",
        "#if the student is pass---> print(congratulations)  along with with marks\n",
        "#if the student is fail----> print(\"Better luck next time\") along with marks\n",
        "Total_marks = 100\n",
        "passing_marks = 45\n",
        "student_marks = int(input(\"enter your marks: \"))\n",
        "if student_marks >= passing_marks:\n",
        "  print(\"congratulattion\")\n",
        "  print(f\"You have recived {student_marks} marks out of {Total_marks}\")\n",
        "else:\n",
        "  print(\"Better luck next time\")\n",
        "  print(f\"You have recived {student_marks} marks out of {Total_marks}\")\n",
        "#Note:- when we are having exact 2 condition we need to use \"if\" and \"else\""
      ],
      "metadata": {
        "colab": {
          "base_uri": "https://localhost:8080/"
        },
        "id": "LORa8lIWb9dy",
        "outputId": "bd3c2853-a223-4e5d-da14-8ca84017113f"
      },
      "execution_count": null,
      "outputs": [
        {
          "output_type": "stream",
          "name": "stdout",
          "text": [
            "enter your marks: 44\n",
            "Better luck next time\n",
            "You have recived 44 marks out of 100\n"
          ]
        }
      ]
    },
    {
      "cell_type": "code",
      "source": [
        "#Note:- If we are having more than 2 conditions then we need use \"elif\"\n",
        "#what is procedural step for elif? or where we can write elif?\n",
        "#elif can be written in between if and else\n",
        "#if--->elif--->else\n",
        "#write a program to check weather the given number is positive or negative, if number is zero means print it is neutral.\n",
        "num = int(input('enter your number: '))\n",
        "if num > 0:\n",
        "  print(f'Number {num} is positive')\n",
        "elif num == 0:\n",
        "  print(f'Number {num} is neutral')\n",
        "else:\n",
        "    print(f'Number {num} is Negative')\n",
        "#Note:- when we use input function with defining int give only int number otherwise it rises an error"
      ],
      "metadata": {
        "colab": {
          "base_uri": "https://localhost:8080/"
        },
        "id": "jSJl2lT4hxRI",
        "outputId": "68dc3c6b-0ebf-4e6e-f180-d8053778938d"
      },
      "execution_count": null,
      "outputs": [
        {
          "output_type": "stream",
          "name": "stdout",
          "text": [
            "enter your number: 80\n",
            "Number 80 is positive\n"
          ]
        }
      ]
    },
    {
      "cell_type": "code",
      "source": [
        "#write a program to check age of user and give ride suggetion based on age of the user in a adventure park\n",
        "#if the user is having the age more the 14 the they are eligible all the rides\n",
        "#less than 14 is not elible for all the ride and print go for 'safe rides'\n",
        "#if the age is more than 60 then no user is not elible for rides\n",
        "age = int(input('enter age: '))\n",
        "if age > 14 and age <= 60:\n",
        "  print('eligibl for all the rides')\n",
        "elif age > 60:\n",
        "  print('not elible for rides')\n",
        "else:\n",
        "  print('go for safe under rated rides')"
      ],
      "metadata": {
        "colab": {
          "base_uri": "https://localhost:8080/"
        },
        "id": "w1X56VHOkuZB",
        "outputId": "78db6c84-0064-45f5-9afa-f45ec80de25a"
      },
      "execution_count": null,
      "outputs": [
        {
          "output_type": "stream",
          "name": "stdout",
          "text": [
            "enter age: 30\n",
            "eligibl for all the rides\n"
          ]
        }
      ]
    },
    {
      "cell_type": "markdown",
      "source": [
        "**logical operators**"
      ],
      "metadata": {
        "id": "JQx0P0NCmm7r"
      }
    },
    {
      "cell_type": "code",
      "source": [
        "#There are 3 logical operators\n",
        "#1.and:- it executes the program when all the condition are true\n",
        "#2.or:_- it executes the program if any one condition is true\n",
        "#3.not:- it reverse your actual output"
      ],
      "metadata": {
        "id": "xH7D_m1EmrJm"
      },
      "execution_count": null,
      "outputs": []
    },
    {
      "cell_type": "code",
      "source": [
        "print('a' == 'a')\n",
        "print(2 <= 10)\n",
        "print(3 <= 10)\n",
        "print(9 <= 10)\n",
        "print(10 <= 10)\n",
        "print(11 <= 10)"
      ],
      "metadata": {
        "colab": {
          "base_uri": "https://localhost:8080/"
        },
        "id": "QYqYq7nmnqtb",
        "outputId": "1f9551e6-7908-49de-b967-9349620b5b5e"
      },
      "execution_count": null,
      "outputs": [
        {
          "output_type": "stream",
          "name": "stdout",
          "text": [
            "True\n",
            "True\n",
            "True\n",
            "True\n",
            "True\n",
            "False\n"
          ]
        }
      ]
    }
  ]
}